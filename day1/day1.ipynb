{
 "cells": [
  {
   "cell_type": "markdown",
   "metadata": {},
   "source": [
    "# [Day1](https://adventofcode.com/2022/day/1)"
   ]
  },
  {
   "cell_type": "markdown",
   "metadata": {},
   "source": [
    "The solution is the `calorie_counter` function below."
   ]
  },
  {
   "cell_type": "code",
   "execution_count": 1,
   "metadata": {},
   "outputs": [],
   "source": [
    "from typing import List\n",
    "from aoc2022.utils import timeit\n",
    "\n",
    "@timeit(1000)\n",
    "def calorie_counter(path: str, top_n: int) -> int:\n",
    "    # read in the data \n",
    "    with open(path) as f:\n",
    "        text: str = f.read()\n",
    "    \n",
    "    calories: list = []\n",
    "    for group in text.split(\"\\n\\n\"):\n",
    "        cal_per_group: int = 0\n",
    "        for cal in group.split(\"\\n\"):\n",
    "            cal_per_group += int(cal.strip())\n",
    "        calories.append(cal_per_group)\n",
    "    return sum(sorted(calories)[-top_n:])"
   ]
  },
  {
   "cell_type": "markdown",
   "metadata": {},
   "source": [
    "Part one"
   ]
  },
  {
   "cell_type": "code",
   "execution_count": 2,
   "metadata": {},
   "outputs": [
    {
     "name": "stdout",
     "output_type": "stream",
     "text": [
      "'calorie_counter()' took on average 1.7617225646972655e-05 seconds with a stdev of 201.67%. (1000 runs)\n",
      "'calorie_counter()' took on average 0.0002993028163909912 seconds with a stdev of 8.43%. (1000 runs)\n"
     ]
    }
   ],
   "source": [
    "assert calorie_counter('test_input.txt', 1) == 24000\n",
    "assert calorie_counter('input.txt', 1) == 71471"
   ]
  },
  {
   "cell_type": "code",
   "execution_count": 3,
   "metadata": {},
   "outputs": [
    {
     "name": "stdout",
     "output_type": "stream",
     "text": [
      "'calorie_counter()' took on average 1.7519474029541015e-05 seconds with a stdev of 67.27%. (1000 runs)\n",
      "'calorie_counter()' took on average 0.0002976837158203125 seconds with a stdev of 6.59%. (1000 runs)\n"
     ]
    }
   ],
   "source": [
    "assert calorie_counter('test_input.txt', 3) == 45000\n",
    "assert calorie_counter('input.txt', 3) == 211189"
   ]
  }
 ],
 "metadata": {
  "kernelspec": {
   "display_name": "Python 3.11.0 64-bit ('advent_of_code')",
   "language": "python",
   "name": "python3"
  },
  "language_info": {
   "codemirror_mode": {
    "name": "ipython",
    "version": 3
   },
   "file_extension": ".py",
   "mimetype": "text/x-python",
   "name": "python",
   "nbconvert_exporter": "python",
   "pygments_lexer": "ipython3",
   "version": "3.11.0"
  },
  "orig_nbformat": 4,
  "vscode": {
   "interpreter": {
    "hash": "2f4555899230db5af0ff1bdb756d10480e684325747d9718a095fe4965aa206b"
   }
  }
 },
 "nbformat": 4,
 "nbformat_minor": 2
}
