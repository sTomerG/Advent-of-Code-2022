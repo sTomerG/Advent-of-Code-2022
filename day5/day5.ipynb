{
 "cells": [
  {
   "cell_type": "markdown",
   "metadata": {},
   "source": [
    "# [Day 5](https://adventofcode.com/2022/day/5)"
   ]
  },
  {
   "cell_type": "code",
   "execution_count": 1,
   "metadata": {},
   "outputs": [],
   "source": [
    "from typing import Tuple, List, Dict\n",
    "from collections import defaultdict\n",
    "import re\n",
    "from aoc2022.utils import timeit\n",
    "\n",
    "def read_input(path: str) -> Tuple[Dict[int, List[str]], List[str]]:\n",
    "    with open(path) as f:\n",
    "        text = f.read()\n",
    "    start_positions, instructions = text.split(\"\\n\\n\")\n",
    "    return start_positions.split('\\n'), instructions.split('\\n')\n",
    "\n",
    "def get_start_dict(start_positions: Dict[int, List[str]], n_rows: int):\n",
    "    start_dict = defaultdict(list)\n",
    "    letter_indices = list(range(1,n_rows*4, 4))\n",
    "    row_indices = list(range(1, n_rows +1))\n",
    "    for row in start_positions:\n",
    "        for li, ri in zip(letter_indices, row_indices):\n",
    "            if row[li].isalpha():\n",
    "                start_dict[ri].append(row[li])\n",
    "    return start_dict\n",
    "\n",
    "def move_one_by_one(position_dict: Dict[int, List[str]], instructions) -> Dict[int, List[str]]:\n",
    "    for instr in instructions:\n",
    "        quantity, origin, to = [int(s) for s in re.findall(r'\\b\\d+\\b', instr)]\n",
    "        for _ in range(quantity):\n",
    "            position_dict[to].insert(0, position_dict[origin].pop(0))\n",
    "    return position_dict\n",
    "\n",
    "def move_multiple(position_dict: Dict[int, List[str]], instructions) -> Dict[int, List[str]]:\n",
    "    for instr in instructions:\n",
    "        quantity, origin, to = [int(s) for s in re.findall(r'\\b\\d+\\b', instr)]\n",
    "        position_dict[to] = position_dict[origin][0:quantity] + position_dict[to]\n",
    "        position_dict[origin] = position_dict[origin][quantity:]\n",
    "    return position_dict\n",
    "\n",
    "def get_top_boxes(position_dict: Dict[int, List[str]]) -> str:\n",
    "    return \"\".join([position_dict[key][0] for key in sorted(position_dict.keys())])\n",
    "\n",
    "@timeit(1000)\n",
    "def part_one(path: str, n_rows: int) -> int:\n",
    "    start_positions, instructions = read_input(path)\n",
    "    start_dict = get_start_dict(start_positions, n_rows)\n",
    "    end_dict = move_one_by_one(start_dict, instructions)\n",
    "    return get_top_boxes(end_dict)\n",
    "\n",
    "@timeit(1000)\n",
    "def part_two(path: str, n_rows: int) -> int:\n",
    "    start_positions, instructions = read_input(path)\n",
    "    start_dict = get_start_dict(start_positions, n_rows)\n",
    "    end_dict = move_multiple(start_dict, instructions)\n",
    "    return get_top_boxes(end_dict)\n",
    "    \n"
   ]
  },
  {
   "cell_type": "code",
   "execution_count": 2,
   "metadata": {},
   "outputs": [
    {
     "name": "stdout",
     "output_type": "stream",
     "text": [
      "'part_one()' took on average 2.4838447570800783e-05 seconds with a stdev of 60.81%. (1000 runs)\n",
      "'part_one()' took on average 0.0008907134532928466 seconds with a stdev of 3.97%. (1000 runs)\n"
     ]
    }
   ],
   "source": [
    "assert part_one('test_input.txt', 3) == 'CMZ'\n",
    "assert part_one('input.txt', 9) == 'VPCDMSLWJ'"
   ]
  },
  {
   "cell_type": "code",
   "execution_count": 3,
   "metadata": {},
   "outputs": [
    {
     "name": "stdout",
     "output_type": "stream",
     "text": [
      "'part_two()' took on average 2.4883508682250977e-05 seconds with a stdev of 59.92%. (1000 runs)\n",
      "'part_two()' took on average 0.0006663124561309815 seconds with a stdev of 4.54%. (1000 runs)\n"
     ]
    }
   ],
   "source": [
    "assert part_two('test_input.txt', 3) == 'MCD'\n",
    "assert part_two('input.txt', 9) == 'TPWCGNCCG'"
   ]
  }
 ],
 "metadata": {
  "kernelspec": {
   "display_name": "Python 3.11.0 64-bit ('advent_of_code')",
   "language": "python",
   "name": "python3"
  },
  "language_info": {
   "codemirror_mode": {
    "name": "ipython",
    "version": 3
   },
   "file_extension": ".py",
   "mimetype": "text/x-python",
   "name": "python",
   "nbconvert_exporter": "python",
   "pygments_lexer": "ipython3",
   "version": "3.11.0"
  },
  "orig_nbformat": 4,
  "vscode": {
   "interpreter": {
    "hash": "2f4555899230db5af0ff1bdb756d10480e684325747d9718a095fe4965aa206b"
   }
  }
 },
 "nbformat": 4,
 "nbformat_minor": 2
}
