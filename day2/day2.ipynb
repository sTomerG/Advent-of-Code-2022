{
 "cells": [
  {
   "cell_type": "markdown",
   "metadata": {},
   "source": [
    "# [Day 2](https://adventofcode.com/2022/day/2)"
   ]
  },
  {
   "cell_type": "markdown",
   "metadata": {},
   "source": [
    "Below is the necessary code for the solution of part 1 and 2"
   ]
  },
  {
   "cell_type": "code",
   "execution_count": 1,
   "metadata": {},
   "outputs": [],
   "source": [
    "from aoc2022.utils import timeit\n",
    "\n",
    "def points_per_shape(shape: str) -> int:\n",
    "    return '_XYZ'.index(shape)\n",
    "\n",
    "def points_per_game(opp: str, me: str) -> int:\n",
    "    points = points_per_shape(me)\n",
    "    \n",
    "    if (opp == 'A' and me == 'X') or (opp == 'B' and me == 'Y') or (opp == 'C' and me == 'Z'):\n",
    "        return points + 3\n",
    "    if (opp == 'A' and me == 'Y') or (opp == 'B' and me == 'Z') or (opp == 'C' and me == 'X'):\n",
    "        return points + 6\n",
    "    return points + 0\n",
    "\n",
    "def strategy_converter(opp, strat):\n",
    "    if strat == 'Y':\n",
    "        if opp == 'A':\n",
    "            return points_per_game(opp, 'X')\n",
    "        elif opp == 'B':\n",
    "            return points_per_game(opp, 'Y')\n",
    "        else:\n",
    "            return points_per_game(opp, 'Z')\n",
    "    if strat == 'X':\n",
    "        if opp == 'A':\n",
    "            return points_per_game(opp, 'Z')\n",
    "        elif opp == 'B':\n",
    "            return points_per_game(opp, 'X')\n",
    "        else:\n",
    "            return points_per_game(opp, 'Y')\n",
    "    if strat == 'Z':\n",
    "        if opp == 'A':\n",
    "            return points_per_game(opp, 'Y')\n",
    "        elif opp == 'B':\n",
    "            return points_per_game(opp, 'Z')\n",
    "        else:\n",
    "            return points_per_game(opp, 'X')\n",
    "\n",
    "@timeit(1000)\n",
    "def part_one(path: str) -> int:\n",
    "    total_points = 0\n",
    "    with open(path) as f:\n",
    "        for line in f:\n",
    "            opp, me = line.rstrip().split()\n",
    "            total_points += points_per_game(opp, me)\n",
    "    return total_points\n",
    "\n",
    "@timeit(1000)\n",
    "def part_two(path: str) -> int:\n",
    "    total_points = 0\n",
    "    with open(path) as f:\n",
    "        for line in f:\n",
    "            opp, me = line.rstrip().split()\n",
    "            total_points += strategy_converter(opp, me)\n",
    "    return total_points\n",
    "\n"
   ]
  },
  {
   "cell_type": "code",
   "execution_count": 2,
   "metadata": {},
   "outputs": [
    {
     "name": "stdout",
     "output_type": "stream",
     "text": [
      "'part_one()' took on average 1.7054557800292968e-05 seconds with a stdev of 125.71%. (1000 runs).\n"
     ]
    },
    {
     "data": {
      "text/plain": [
       "15"
      ]
     },
     "execution_count": 2,
     "metadata": {},
     "output_type": "execute_result"
    }
   ],
   "source": [
    "part_one('test_input.txt')"
   ]
  },
  {
   "cell_type": "code",
   "execution_count": 3,
   "metadata": {},
   "outputs": [
    {
     "name": "stdout",
     "output_type": "stream",
     "text": [
      "'part_two()' took on average 1.725316047668457e-05 seconds with a stdev of 76.9%. (1000 runs).\n"
     ]
    },
    {
     "data": {
      "text/plain": [
       "12"
      ]
     },
     "execution_count": 3,
     "metadata": {},
     "output_type": "execute_result"
    }
   ],
   "source": [
    "part_two('test_input.txt')"
   ]
  }
 ],
 "metadata": {
  "kernelspec": {
   "display_name": "Python 3.11.0 64-bit ('advent_of_code')",
   "language": "python",
   "name": "python3"
  },
  "language_info": {
   "codemirror_mode": {
    "name": "ipython",
    "version": 3
   },
   "file_extension": ".py",
   "mimetype": "text/x-python",
   "name": "python",
   "nbconvert_exporter": "python",
   "pygments_lexer": "ipython3",
   "version": "3.11.0"
  },
  "orig_nbformat": 4,
  "vscode": {
   "interpreter": {
    "hash": "2f4555899230db5af0ff1bdb756d10480e684325747d9718a095fe4965aa206b"
   }
  }
 },
 "nbformat": 4,
 "nbformat_minor": 2
}
