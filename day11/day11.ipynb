{
 "cells": [
  {
   "cell_type": "markdown",
   "metadata": {},
   "source": [
    "# [Day 11](https://adventofcode.com/2022/day/11)"
   ]
  },
  {
   "cell_type": "code",
   "execution_count": 1,
   "metadata": {},
   "outputs": [],
   "source": [
    "from typing import List, Callable, Dict, Any, Optional\n",
    "import math\n",
    "import re\n",
    "from aoc2022.utils import timeit, get_numbers_from_string\n",
    "\n",
    "def parse_monkey_id(string: str) -> int:\n",
    "    return get_numbers_from_string(string, 1)[0]\n",
    "\n",
    "def parste_starting_items(string: str) -> List[int]:\n",
    "    return get_numbers_from_string(string)\n",
    "\n",
    "def parse_operation(string: str) -> Callable:\n",
    "    if string.count('old') == 2:\n",
    "        return lambda x: x*x\n",
    "    number = get_numbers_from_string(string, 1)[0]\n",
    "    if '+' in string:\n",
    "        return lambda x: x + number\n",
    "    if '*' in string:\n",
    "        return lambda x: x * number\n",
    "    \n",
    "def parse_test(string: str) -> Callable:\n",
    "    number = get_numbers_from_string(string, 1)[0]\n",
    "    return lambda x: x % number == 0, number\n",
    "\n",
    "def parse_conditions(condition_true: str, condition_false: str) -> Callable:\n",
    "    true_value = get_numbers_from_string(condition_true, 1)[0]\n",
    "    false_value = get_numbers_from_string(condition_false, 1)[0]\n",
    "    return lambda x: true_value if x else false_value\n",
    "\n",
    "class Monkey:\n",
    "    monkies: Dict[int, Any] = dict()\n",
    "    n_round = 0\n",
    "    def __init__(self, id: int, items: List[int], operation: Callable, test: Callable, condition: Callable):\n",
    "        self.id = id\n",
    "        self.items = items\n",
    "        self.operation = operation\n",
    "        self.test = test\n",
    "        self.condition = condition\n",
    "        self.inspected_items = 0\n",
    "        Monkey.monkies[self.id] = self\n",
    "        \n",
    "    def turn(self, worry_reducer: Callable):\n",
    "        for item in self.items:\n",
    "            self.inspected_items += 1\n",
    "            item = self.operation(item)\n",
    "            item = worry_reducer(item)\n",
    "            test = self.test(item)\n",
    "            throw_to = self.condition(test)\n",
    "            Monkey.monkies[throw_to].receive_item(item)\n",
    "        self.items = []\n",
    "        \n",
    "    def receive_item(self, item: int):\n",
    "        self.items.append(item)\n",
    "    \n",
    "    @classmethod\n",
    "    def round(cls, worry_reducer: Callable, verbose: bool = False):\n",
    "        for monkey in cls.monkies.values():\n",
    "            monkey.turn(worry_reducer)\n",
    "        cls.n_round += 1\n",
    "        if verbose:\n",
    "            if cls.n_round in list(range(1,21)) + list(range(1000,11000,1000)):\n",
    "                print(f\"== After round {cls.n_round} == \")\n",
    "                for id, monkey in cls.monkies.items():\n",
    "                    print(f\"Monkey {id}: {monkey.inspected_items}\")\n",
    "                print(\"\\n\\n\")\n",
    "            \n",
    "    @classmethod\n",
    "    def inspected_per_monkey(cls, top_n):\n",
    "        top_inspected = [monkey.inspected_items for monkey in cls.monkies.values()]\n",
    "        return math.prod(sorted(top_inspected)[-top_n:])\n",
    "\n",
    "\n",
    "def create_start(path: str) -> Dict[int, Monkey]:\n",
    "    monkies = dict()\n",
    "    modulas = 1\n",
    "    with open(path) as f:\n",
    "        input_ = f.read()\n",
    "    monkey_inputs = [line.split('\\n') for line in input_.split(\"\\n\\n\")]\n",
    "    for monkey in monkey_inputs:\n",
    "        id, starting_items, operation, test, condition_true, condition_false = monkey\n",
    "        id = parse_monkey_id(id)\n",
    "        starting_items = parste_starting_items(starting_items)\n",
    "        operation = parse_operation(operation)\n",
    "        test, modula = parse_test(test)\n",
    "        modulas *= modula\n",
    "        condition = parse_conditions(condition_true, condition_false)\n",
    "        monkies[id] = Monkey(id, starting_items, operation, test, condition)\n",
    "    return monkies, lambda x: x % modulas\n",
    "\n",
    "@timeit(1000)\n",
    "def part_one(path: str, n_round: int, verbose: bool = False):\n",
    "    monkies, _ = create_start(path)\n",
    "    for _ in range(n_round):\n",
    "        Monkey.round(lambda x: int(x/3), verbose)\n",
    "    return Monkey.inspected_per_monkey(2)\n",
    "\n",
    "@timeit(1000)\n",
    "def part_two(path: str, n_round: int):\n",
    "    monkies, worry_reducer = create_start(path)\n",
    "    for _ in range(n_round):\n",
    "        Monkey.round(worry_reducer)\n",
    "    return Monkey.inspected_per_monkey(2)\n",
    "    \n",
    "\n",
    "    \n",
    "\n",
    "        "
   ]
  },
  {
   "cell_type": "code",
   "execution_count": 2,
   "metadata": {},
   "outputs": [
    {
     "name": "stdout",
     "output_type": "stream",
     "text": [
      "'part_one()' took on average 0.00017487072944641114 seconds with a stdev of 15.54%. (1000 runs)\n",
      "'part_one()' took on average 0.0004945342540740966 seconds with a stdev of 5.24%. (1000 runs)\n"
     ]
    }
   ],
   "source": [
    "assert part_one('test_input.txt', 20) == 10605\n",
    "assert part_one('input.txt', 20) == 50616"
   ]
  },
  {
   "cell_type": "code",
   "execution_count": 3,
   "metadata": {},
   "outputs": [
    {
     "name": "stdout",
     "output_type": "stream",
     "text": [
      "'part_two()' took on average 0.0598579261302948 seconds with a stdev of 3.44%. (1000 runs)\n",
      "'part_two()' took on average 0.19460829305648802 seconds with a stdev of 1.05%. (1000 runs)\n"
     ]
    }
   ],
   "source": [
    "assert part_two('test_input.txt', 10000) == 2713310158\n",
    "assert part_two('input.txt', 10000) == 11309046332"
   ]
  }
 ],
 "metadata": {
  "kernelspec": {
   "display_name": "Python 3.11.0 64-bit ('advent_of_code')",
   "language": "python",
   "name": "python3"
  },
  "language_info": {
   "codemirror_mode": {
    "name": "ipython",
    "version": 3
   },
   "file_extension": ".py",
   "mimetype": "text/x-python",
   "name": "python",
   "nbconvert_exporter": "python",
   "pygments_lexer": "ipython3",
   "version": "3.11.0"
  },
  "orig_nbformat": 4,
  "vscode": {
   "interpreter": {
    "hash": "2f4555899230db5af0ff1bdb756d10480e684325747d9718a095fe4965aa206b"
   }
  }
 },
 "nbformat": 4,
 "nbformat_minor": 2
}
