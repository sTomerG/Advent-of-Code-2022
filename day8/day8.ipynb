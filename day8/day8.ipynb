{
 "cells": [
  {
   "cell_type": "markdown",
   "metadata": {},
   "source": [
    "# [Day 8](https://adventofcode.com/2022/day/8)"
   ]
  },
  {
   "cell_type": "markdown",
   "metadata": {},
   "source": [
    "Part one"
   ]
  },
  {
   "cell_type": "code",
   "execution_count": 50,
   "metadata": {},
   "outputs": [],
   "source": [
    "from typing import List, Set, Tuple\n",
    "from aoc2022.utils import timeit\n",
    "\n",
    "def get_grid(path: str) -> List[List[int]]:\n",
    "    with open(path) as f:\n",
    "        grid = f.read()\n",
    "    return [[int(tree) for tree in list(row)] for row in grid.split('\\n')]\n",
    "\n",
    "def visible_tree(list_: List[int], highest_tree: int = -1) -> List[int]:\n",
    "    prev_tree= highest_tree\n",
    "    tree_indices = []\n",
    "    for i, tree in enumerate(list_):\n",
    "        if tree > prev_tree and tree > highest_tree:\n",
    "            tree_indices.append(i)\n",
    "        highest_tree = max(tree, highest_tree)\n",
    "        prev_tree = tree\n",
    "    return tree_indices\n",
    "\n",
    "def reverse_index_to_original(index: int, list_: List):\n",
    "    return len(list_) - (index + 1)\n",
    "\n",
    "def horizontal_visible(grid: List[List[int]]) -> Set[Tuple[int, int]]:\n",
    "    visible_trees = set()\n",
    "    for row_index, row in enumerate(grid):\n",
    "        indices = visible_tree(row)\n",
    "        for i in indices:\n",
    "            visible_trees.add((row_index, i))\n",
    "        indices_rev = visible_tree(list(reversed(row)))\n",
    "        for i in indices_rev:\n",
    "            visible_trees.add((row_index, reverse_index_to_original(i, grid)))\n",
    "    return visible_trees\n",
    "\n",
    "def vertical_visible(grid: List[List[int]]) -> Set[Tuple[int, int]]:\n",
    "    visible_trees = set()\n",
    "    grid_t = [list(x) for x in zip(*grid)]\n",
    "    for col_index, col in enumerate(grid_t):\n",
    "        indices = visible_tree(col)\n",
    "        for i in indices:\n",
    "            visible_trees.add((i, col_index))\n",
    "        indices_rev = visible_tree(list(reversed(col)))\n",
    "        for i in indices_rev:\n",
    "            visible_trees.add((reverse_index_to_original(i, grid), col_index))\n",
    "    return visible_trees\n",
    "\n",
    "@timeit(1000)\n",
    "def part_one(path: str) -> int:\n",
    "    grid = get_grid(path)\n",
    "    visible_trees = horizontal_visible(grid)\n",
    "    visible_trees = visible_trees.union(vertical_visible(grid))\n",
    "    return len(visible_trees)\n",
    "    "
   ]
  },
  {
   "cell_type": "code",
   "execution_count": 51,
   "metadata": {},
   "outputs": [
    {
     "name": "stdout",
     "output_type": "stream",
     "text": [
      "'part_one()' took on average 3.892040252685547e-05 seconds with a stdev of 50.64%. (1000 runs)\n",
      "'part_one()' took on average 0.004846661329269409 seconds with a stdev of 2.88%. (1000 runs)\n"
     ]
    }
   ],
   "source": [
    "assert part_one('test_input.txt') == 21\n",
    "assert part_one('input.txt') == 1859"
   ]
  },
  {
   "cell_type": "markdown",
   "metadata": {},
   "source": [
    "Part two"
   ]
  },
  {
   "cell_type": "code",
   "execution_count": 52,
   "metadata": {},
   "outputs": [],
   "source": [
    "def visible_from_tree(list_: List[int], highest_tree: int = -1) -> List[int]:\n",
    "    prev_tree= -1\n",
    "    tree_indices = []\n",
    "    for i, tree in enumerate(list_):\n",
    "        if tree <= highest_tree:\n",
    "            tree_indices.append(i)\n",
    "        if tree == highest_tree:\n",
    "            return tree_indices\n",
    "        if tree > highest_tree:\n",
    "            tree_indices.append(i)\n",
    "            return tree_indices\n",
    "        prev_tree = tree\n",
    "    return tree_indices\n",
    "\n",
    "@timeit(1000)\n",
    "def part_two(path: str) -> int:\n",
    "    grid = get_grid(path)\n",
    "    visible_trees = set()\n",
    "    grid_t = grid_t = [list(x) for x in zip(*grid)]\n",
    "    dict_ = {}\n",
    "    for row_index, row in enumerate(grid):\n",
    "        for tree_index, tree in enumerate(row):\n",
    "            indices = visible_from_tree(row[tree_index+1:], tree)\n",
    "            hori = len(indices)\n",
    "            indices_rev = visible_from_tree(list(reversed(row[:tree_index])), tree)\n",
    "            hori_rev = len(indices_rev)\n",
    "            verti = len(visible_from_tree(grid_t[tree_index][row_index +1:], tree))\n",
    "            verti_rev = len(visible_from_tree(list(reversed(grid_t[tree_index][:row_index])),tree))\n",
    "            score = hori*hori_rev*verti*verti_rev\n",
    "            dict_[(row_index, tree_index)] = score\n",
    "    return max(dict_.values())\n"
   ]
  },
  {
   "cell_type": "code",
   "execution_count": 53,
   "metadata": {},
   "outputs": [
    {
     "name": "stdout",
     "output_type": "stream",
     "text": [
      "'part_two()' took on average 5.470013618469238e-05 seconds with a stdev of 29.01%. (1000 runs)\n",
      "'part_two()' took on average 0.024299603939056398 seconds with a stdev of 7.91%. (1000 runs)\n"
     ]
    }
   ],
   "source": [
    "assert part_two('test_input.txt') == 8\n",
    "assert part_two('input.txt') == 332640"
   ]
  }
 ],
 "metadata": {
  "kernelspec": {
   "display_name": "Python 3.11.0 64-bit ('advent_of_code')",
   "language": "python",
   "name": "python3"
  },
  "language_info": {
   "codemirror_mode": {
    "name": "ipython",
    "version": 3
   },
   "file_extension": ".py",
   "mimetype": "text/x-python",
   "name": "python",
   "nbconvert_exporter": "python",
   "pygments_lexer": "ipython3",
   "version": "3.11.0"
  },
  "orig_nbformat": 4,
  "vscode": {
   "interpreter": {
    "hash": "2f4555899230db5af0ff1bdb756d10480e684325747d9718a095fe4965aa206b"
   }
  }
 },
 "nbformat": 4,
 "nbformat_minor": 2
}
