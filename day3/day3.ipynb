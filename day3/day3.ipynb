{
 "cells": [
  {
   "cell_type": "markdown",
   "metadata": {},
   "source": [
    "# [Day 3](https://adventofcode.com/2022/day/3)"
   ]
  },
  {
   "cell_type": "markdown",
   "metadata": {},
   "source": [
    "Below is the code for part one and two"
   ]
  },
  {
   "cell_type": "code",
   "execution_count": 1,
   "metadata": {},
   "outputs": [],
   "source": [
    "from aoc2022.utils import timeit\n",
    "\n",
    "class Day3:\n",
    "    lookup = \"-abcdefghijklmnopqrstuvwxyz\"\n",
    "    lookup += lookup[1:].upper()\n",
    "    \n",
    "    @staticmethod\n",
    "    def points_per_sack(string: str) -> int:\n",
    "        sack_size = int(len(string)/2)\n",
    "        string1 = string[:sack_size]\n",
    "        string2 = string[sack_size:]\n",
    "        for s in string1:\n",
    "            if s in string2:\n",
    "                return Day3.lookup.index(s)\n",
    "    \n",
    "    @staticmethod\n",
    "    def points_per_common_badge(strings: str) -> int: \n",
    "        for letter in strings[0]:\n",
    "            for i, string in enumerate(strings[1:]):\n",
    "                if letter not in string:\n",
    "                    break\n",
    "                if i == len(strings) - 2:\n",
    "                    return Day3.lookup.index(letter)\n",
    "\n",
    "@timeit(1000)         \n",
    "def part_one(path: str) -> int:\n",
    "    day3 = Day3()\n",
    "    points = 0\n",
    "    with open(path) as f:\n",
    "        for line in f:\n",
    "            points += day3.points_per_sack(line.rstrip())\n",
    "    return points\n",
    "\n",
    "@timeit(1000)\n",
    "def part_two(path: str) -> int:\n",
    "    points = 0\n",
    "    lines = []\n",
    "    day3 = Day3()\n",
    "    with open(path) as f:\n",
    "        for line in f:\n",
    "            lines.append(line.rstrip())\n",
    "            if len(lines) == 3:\n",
    "                points += day3.points_per_common_badge(lines)\n",
    "                lines = []\n",
    "    return points\n",
    "        "
   ]
  },
  {
   "cell_type": "code",
   "execution_count": 2,
   "metadata": {},
   "outputs": [
    {
     "name": "stdout",
     "output_type": "stream",
     "text": [
      "'part_one()' took on average 1.8884897232055665e-05 seconds with a stdev of 79.16%. (1000 runs).\n"
     ]
    },
    {
     "data": {
      "text/plain": [
       "157"
      ]
     },
     "execution_count": 2,
     "metadata": {},
     "output_type": "execute_result"
    }
   ],
   "source": [
    "part_one('test_input.txt')"
   ]
  },
  {
   "cell_type": "code",
   "execution_count": 3,
   "metadata": {},
   "outputs": [
    {
     "name": "stdout",
     "output_type": "stream",
     "text": [
      "'part_two()' took on average 1.910114288330078e-05 seconds with a stdev of 82.59%. (1000 runs).\n"
     ]
    },
    {
     "data": {
      "text/plain": [
       "70"
      ]
     },
     "execution_count": 3,
     "metadata": {},
     "output_type": "execute_result"
    }
   ],
   "source": [
    "part_two('test_input.txt')"
   ]
  }
 ],
 "metadata": {
  "kernelspec": {
   "display_name": "Python 3.11.0 64-bit ('advent_of_code')",
   "language": "python",
   "name": "python3"
  },
  "language_info": {
   "codemirror_mode": {
    "name": "ipython",
    "version": 3
   },
   "file_extension": ".py",
   "mimetype": "text/x-python",
   "name": "python",
   "nbconvert_exporter": "python",
   "pygments_lexer": "ipython3",
   "version": "3.11.0"
  },
  "orig_nbformat": 4,
  "vscode": {
   "interpreter": {
    "hash": "2f4555899230db5af0ff1bdb756d10480e684325747d9718a095fe4965aa206b"
   }
  }
 },
 "nbformat": 4,
 "nbformat_minor": 2
}
