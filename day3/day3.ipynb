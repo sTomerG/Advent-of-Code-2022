{
 "cells": [
  {
   "cell_type": "markdown",
   "metadata": {},
   "source": [
    "# [Day 3](https://adventofcode.com/2022/day/3)"
   ]
  },
  {
   "cell_type": "markdown",
   "metadata": {},
   "source": [
    "Below is the code for part one and two"
   ]
  },
  {
   "cell_type": "code",
   "execution_count": 1,
   "metadata": {},
   "outputs": [],
   "source": [
    "from aoc2022.utils import timeit\n",
    "\n",
    "class Day3:\n",
    "    lookup = \"-abcdefghijklmnopqrstuvwxyz\"\n",
    "    lookup += lookup[1:].upper()\n",
    "    \n",
    "    @staticmethod\n",
    "    def points_per_sack(string: str) -> int:\n",
    "        sack_size = int(len(string)/2)\n",
    "        string1 = string[:sack_size]\n",
    "        string2 = string[sack_size:]\n",
    "        for s in string1:\n",
    "            if s in string2:\n",
    "                return Day3.lookup.index(s)\n",
    "    \n",
    "    @staticmethod\n",
    "    def points_per_common_badge(strings: str) -> int: \n",
    "        for letter in strings[0]:\n",
    "            for i, string in enumerate(strings[1:]):\n",
    "                if letter not in string:\n",
    "                    break\n",
    "                if i == len(strings) - 2:\n",
    "                    return Day3.lookup.index(letter)\n",
    "\n",
    "@timeit(1000)         \n",
    "def part_one(path: str) -> int:\n",
    "    day3 = Day3()\n",
    "    points = 0\n",
    "    with open(path) as f:\n",
    "        for line in f:\n",
    "            points += day3.points_per_sack(line.rstrip())\n",
    "    return points\n",
    "\n",
    "@timeit(1000)\n",
    "def part_two(path: str) -> int:\n",
    "    points = 0\n",
    "    lines = []\n",
    "    day3 = Day3()\n",
    "    with open(path) as f:\n",
    "        for line in f:\n",
    "            lines.append(line.rstrip())\n",
    "            if len(lines) == 3:\n",
    "                points += day3.points_per_common_badge(lines)\n",
    "                lines = []\n",
    "    return points\n",
    "        "
   ]
  },
  {
   "cell_type": "code",
   "execution_count": 2,
   "metadata": {},
   "outputs": [
    {
     "name": "stdout",
     "output_type": "stream",
     "text": [
      "'part_one()' took on average 1.9402742385864258e-05 seconds with a stdev of 82.28%. (1000 runs)\n",
      "'part_one()' took on average 0.0001765000820159912 seconds with a stdev of 5.8%. (1000 runs)\n"
     ]
    }
   ],
   "source": [
    "assert part_one('test_input.txt') == 157\n",
    "assert part_one('input.txt') == 7967"
   ]
  },
  {
   "cell_type": "code",
   "execution_count": 3,
   "metadata": {},
   "outputs": [
    {
     "name": "stdout",
     "output_type": "stream",
     "text": [
      "'part_two()' took on average 1.8569469451904296e-05 seconds with a stdev of 57.6%. (1000 runs)\n",
      "'part_two()' took on average 0.0002818584442138672 seconds with a stdev of 14.42%. (1000 runs)\n"
     ]
    }
   ],
   "source": [
    "assert part_two('test_input.txt') == 70\n",
    "assert part_two('input.txt') == 2716"
   ]
  }
 ],
 "metadata": {
  "kernelspec": {
   "display_name": "Python 3.11.0 64-bit ('advent_of_code')",
   "language": "python",
   "name": "python3"
  },
  "language_info": {
   "codemirror_mode": {
    "name": "ipython",
    "version": 3
   },
   "file_extension": ".py",
   "mimetype": "text/x-python",
   "name": "python",
   "nbconvert_exporter": "python",
   "pygments_lexer": "ipython3",
   "version": "3.11.0"
  },
  "orig_nbformat": 4,
  "vscode": {
   "interpreter": {
    "hash": "2f4555899230db5af0ff1bdb756d10480e684325747d9718a095fe4965aa206b"
   }
  }
 },
 "nbformat": 4,
 "nbformat_minor": 2
}
