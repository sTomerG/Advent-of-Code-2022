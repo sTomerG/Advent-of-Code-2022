{
 "cells": [
  {
   "cell_type": "markdown",
   "metadata": {},
   "source": [
    "# [Day 9](https://adventofcode.com/2022/day/9)"
   ]
  },
  {
   "cell_type": "code",
   "execution_count": 1,
   "metadata": {},
   "outputs": [],
   "source": [
    "from typing import Tuple\n",
    "\n",
    "from aoc2022.utils import timeit\n",
    "\n",
    "def single_step(direction: str, coords: Tuple[int,int]) -> Tuple[int, int]:\n",
    "    y, x = coords\n",
    "    map_dict = {\n",
    "        'R': lambda d: (y, x+1),\n",
    "        'L': lambda d: (y, x-1),\n",
    "        'U': lambda d: (y-1, x),\n",
    "        'D': lambda d: (y+1, x)\n",
    "    }\n",
    "    return map_dict[direction](coords)\n",
    "\n",
    "def tail_step(coord_distance: Tuple[int, int], tail_coord: Tuple[int, int]):\n",
    "    ydist, xdist = coord_distance\n",
    "    lookup =[\n",
    "        ['', '', 'R', 'L', ''], # ydist = 0\n",
    "        ['', '', 'DR', 'DL', ''], # ydist = 1\n",
    "        ['D', 'DR', 'DR', 'DL', 'DL'], # ydist = 2\n",
    "        ['U', 'UR', 'UR', 'UL', 'UL'], # ydist = -2\n",
    "        ['', '', 'UR', 'UL', ''] # ydist = -1\n",
    "    ]\n",
    "    steps = lookup[ydist][xdist]\n",
    "    for step in steps:\n",
    "        tail_coord = single_step(step, tail_coord)\n",
    "    return tail_coord\n",
    "      \n",
    "\n",
    "def get_coord_distance(coord1: Tuple[int, int], coord2: Tuple[int, int]) -> Tuple[int, int]:\n",
    "    y1, x1 = coord1\n",
    "    y2, x2 = coord2\n",
    "    return (y1-y2, x1-x2)\n",
    "\n",
    "@timeit(1000)\n",
    "def part_one(path:str) -> int:\n",
    "    tail_coords = set()\n",
    "    head_coord = tail_coord = (0,0)\n",
    "    with open(path) as f:\n",
    "        for line in f:\n",
    "            direction, steps = line.rstrip().split()\n",
    "            for _ in range(int(steps)):\n",
    "                head_coord = single_step(direction, head_coord)\n",
    "                coord_distance = get_coord_distance(head_coord, tail_coord)\n",
    "                tail_coord = tail_step(coord_distance, tail_coord)\n",
    "                tail_coords.add(tail_coord)\n",
    "    return len(tail_coords)\n",
    "\n",
    "@timeit(1000)\n",
    "def part_two(path: str) -> int:\n",
    "    last_tail_coords = set()\n",
    "    head_coord = (0,0)\n",
    "    tails = [head_coord] * 9\n",
    "    with open(path) as f:\n",
    "        for line in f:\n",
    "            direction, steps = line.rstrip().split()\n",
    "            for _ in range(int(steps)):\n",
    "                head_coord = single_step(direction, head_coord)\n",
    "                first_tail = tails[0]\n",
    "                coord_distance = get_coord_distance(head_coord, first_tail)\n",
    "                first_tail = tail_step(coord_distance, first_tail)\n",
    "                tails[0] = first_tail\n",
    "                for index in range(1, len(tails)):\n",
    "                    tail1 = tails[index-1]\n",
    "                    tail2 = tails[index]\n",
    "                    coord_distance = get_coord_distance(tail1, tail2)\n",
    "                    tail2 = tail_step(coord_distance, tail2)\n",
    "                    tails[index] = tail2\n",
    "                last_tail_coords.add(tail2)\n",
    "    return len(last_tail_coords)"
   ]
  },
  {
   "cell_type": "code",
   "execution_count": 2,
   "metadata": {},
   "outputs": [
    {
     "name": "stdout",
     "output_type": "stream",
     "text": [
      "'part_one()' took on average 4.641890525817871e-05 seconds with a stdev of 39.18%. (1000 runs)\n",
      "'part_one()' took on average 0.014808660507202148 seconds with a stdev of 6.52%. (1000 runs)\n"
     ]
    }
   ],
   "source": [
    "assert part_one('test_input.txt') == 13\n",
    "assert part_one('input.txt') == 6256"
   ]
  },
  {
   "cell_type": "code",
   "execution_count": 3,
   "metadata": {},
   "outputs": [
    {
     "name": "stdout",
     "output_type": "stream",
     "text": [
      "'part_two()' took on average 0.00012376785278320313 seconds with a stdev of 18.02%. (1000 runs)\n",
      "'part_two()' took on average 0.0006706962585449218 seconds with a stdev of 6.98%. (1000 runs)\n",
      "'part_two()' took on average 0.06955666017532348 seconds with a stdev of 0.99%. (1000 runs)\n"
     ]
    }
   ],
   "source": [
    "assert part_two('test_input.txt') == 1\n",
    "assert part_two('test_input2.txt') == 36\n",
    "assert part_two('input.txt') == 2665"
   ]
  }
 ],
 "metadata": {
  "kernelspec": {
   "display_name": "Python 3.11.0 64-bit ('advent_of_code')",
   "language": "python",
   "name": "python3"
  },
  "language_info": {
   "codemirror_mode": {
    "name": "ipython",
    "version": 3
   },
   "file_extension": ".py",
   "mimetype": "text/x-python",
   "name": "python",
   "nbconvert_exporter": "python",
   "pygments_lexer": "ipython3",
   "version": "3.11.0"
  },
  "orig_nbformat": 4,
  "vscode": {
   "interpreter": {
    "hash": "2f4555899230db5af0ff1bdb756d10480e684325747d9718a095fe4965aa206b"
   }
  }
 },
 "nbformat": 4,
 "nbformat_minor": 2
}
