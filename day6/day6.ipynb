{
 "cells": [
  {
   "cell_type": "markdown",
   "metadata": {},
   "source": [
    "# [Day 6](https://adventofcode.com/2022/day/6)"
   ]
  },
  {
   "cell_type": "code",
   "execution_count": 1,
   "metadata": {},
   "outputs": [],
   "source": [
    "from aoc2022.utils import timeit\n",
    "\n",
    "@timeit(1000)\n",
    "def first_signal(path: str, char_len: int) -> int:\n",
    "    with open(path) as f:\n",
    "        for line in f:\n",
    "            for index in range(len(line)):\n",
    "                if len(set(line[index:index+char_len])) == char_len:\n",
    "                    return index + char_len\n"
   ]
  },
  {
   "cell_type": "markdown",
   "metadata": {},
   "source": [
    "Solution for part one"
   ]
  },
  {
   "cell_type": "code",
   "execution_count": 2,
   "metadata": {},
   "outputs": [
    {
     "name": "stdout",
     "output_type": "stream",
     "text": [
      "'first_signal()' took on average 0.00036112380027770996 seconds with a stdev of 11.28%. (1000 runs)\n",
      "'first_signal()' took on average 1.58381462097168e-05 seconds with a stdev of 221.32%. (1000 runs)\n",
      "'first_signal()' took on average 1.572275161743164e-05 seconds with a stdev of 58.68%. (1000 runs)\n",
      "'first_signal()' took on average 1.6482114791870117e-05 seconds with a stdev of 52.41%. (1000 runs)\n"
     ]
    }
   ],
   "source": [
    "for input, solution in zip(['input.txt', 'test_input2.txt', 'test_input3.txt', 'test_input4.txt'], [1987, 6, 10, 11]):\n",
    "    assert first_signal(input, 4) == solution"
   ]
  },
  {
   "cell_type": "markdown",
   "metadata": {},
   "source": [
    "Solution for part two"
   ]
  },
  {
   "cell_type": "code",
   "execution_count": 3,
   "metadata": {},
   "outputs": [
    {
     "name": "stdout",
     "output_type": "stream",
     "text": [
      "'first_signal()' took on average 0.0010700669288635253 seconds with a stdev of 3.39%. (1000 runs)\n",
      "'first_signal()' took on average 1.72731876373291e-05 seconds with a stdev of 31.02%. (1000 runs)\n",
      "'first_signal()' took on average 1.8192291259765625e-05 seconds with a stdev of 21.8%. (1000 runs)\n",
      "'first_signal()' took on average 1.727414131164551e-05 seconds with a stdev of 8.49%. (1000 runs)\n"
     ]
    }
   ],
   "source": [
    "for input, solution in zip(['input.txt', 'test_input2.txt', 'test_input3.txt', 'test_input4.txt'], [3059, 23, 29, 26]):\n",
    "    assert first_signal(input, 14) == solution"
   ]
  }
 ],
 "metadata": {
  "kernelspec": {
   "display_name": "Python 3.11.0 64-bit ('advent_of_code')",
   "language": "python",
   "name": "python3"
  },
  "language_info": {
   "codemirror_mode": {
    "name": "ipython",
    "version": 3
   },
   "file_extension": ".py",
   "mimetype": "text/x-python",
   "name": "python",
   "nbconvert_exporter": "python",
   "pygments_lexer": "ipython3",
   "version": "3.11.0"
  },
  "orig_nbformat": 4,
  "vscode": {
   "interpreter": {
    "hash": "2f4555899230db5af0ff1bdb756d10480e684325747d9718a095fe4965aa206b"
   }
  }
 },
 "nbformat": 4,
 "nbformat_minor": 2
}
