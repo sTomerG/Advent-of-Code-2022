{
 "cells": [
  {
   "cell_type": "markdown",
   "metadata": {},
   "source": [
    "# [Day 7](https://adventofcode.com/2022/day/7)"
   ]
  },
  {
   "cell_type": "code",
   "execution_count": 1,
   "metadata": {},
   "outputs": [],
   "source": [
    "from typing import List, Any\n",
    "from collections import defaultdict\n",
    "from aoc2022.utils import timeit\n",
    "\n",
    "def create_dir_structure(path: str) -> List[Any]:\n",
    "    current_dir = ''\n",
    "    dirs = defaultdict(list)\n",
    "    cur_index = 0\n",
    "    with open(path) as f:\n",
    "        for line in f:\n",
    "            first_col, second_col, *third_col = line.split()\n",
    "            # append dir name to parent dir\n",
    "            try:\n",
    "                filesize = int(first_col)\n",
    "            except ValueError:\n",
    "                pass\n",
    "            else:\n",
    "                dirs[current_dir].append(filesize)\n",
    "            if second_col == 'cd':\n",
    "                if third_col != ['..']:\n",
    "                    current_dir = current_dir + f\"/{third_col[0]}\"\n",
    "                else:\n",
    "                    current_dir = \"/\".join(current_dir.split('/')[:-1])\n",
    "    return dirs\n",
    "\n",
    "def sum_per_dir(dirs: dict[List]) -> dict[List]:\n",
    "    keys = list(dirs.keys())\n",
    "    keys.sort(key=lambda s: len(s), reverse=True)\n",
    "    new_dirs = dirs.copy()\n",
    "    for key in keys:\n",
    "        one_dir_up = \"/\".join(key.split(\"/\")[:-1])\n",
    "        new_dirs[one_dir_up] += dirs[key]\n",
    "        while one_dir_up not in keys and one_dir_up != \"/\":\n",
    "            one_dir_up = \"/\".join(one_dir_up.split(\"/\")[:-1])\n",
    "            new_dirs[one_dir_up] += dirs[key]\n",
    "            \n",
    "    for key in list(new_dirs.keys()):\n",
    "        new_dirs[key] = sum(new_dirs[key])\n",
    "    \n",
    "    del new_dirs['/']\n",
    "    return new_dirs\n",
    "\n",
    "def sum_under_threshold(dirs: dict[int], threshold: int) -> int:\n",
    "    return sum([value for value in dirs.values() if value < threshold])\n",
    "\n",
    "def least_diff_with_number(dirs: dict[int], threshold: int) -> int:\n",
    "    return min([value for value in dirs.values() if value > threshold])\n",
    "\n",
    "@timeit(1000)\n",
    "def part_one(path: str, threshold: int) -> int:\n",
    "    dirs = create_dir_structure(path)\n",
    "    dir_sums = sum_per_dir(dirs)\n",
    "    return sum_under_threshold(dir_sums, threshold)\n",
    "\n",
    "@timeit(1000)\n",
    "def part_two(path: str, total_memory: int = 70_000_000, necessary_memory: int = 30_000_000) -> int:\n",
    "    dirs = create_dir_structure(path)\n",
    "    dir_sums = sum_per_dir(dirs)\n",
    "    used_memory = dir_sums['//']\n",
    "    to_free_up_memory = abs(total_memory - used_memory - necessary_memory)\n",
    "    return least_diff_with_number(dir_sums, to_free_up_memory)"
   ]
  },
  {
   "cell_type": "code",
   "execution_count": 2,
   "metadata": {},
   "outputs": [
    {
     "name": "stdout",
     "output_type": "stream",
     "text": [
      "'part_one()' took on average 3.587865829467773e-05 seconds with a stdev of 115.38%. (1000 runs)\n",
      "'part_one()' took on average 0.0011168150901794433 seconds with a stdev of 4.83%. (1000 runs)\n"
     ]
    }
   ],
   "source": [
    "assert part_one('test_input.txt', 100000) == 95437\n",
    "assert part_one('input.txt', 100000) == 1583951"
   ]
  },
  {
   "cell_type": "code",
   "execution_count": 3,
   "metadata": {},
   "outputs": [
    {
     "name": "stdout",
     "output_type": "stream",
     "text": [
      "'part_two()' took on average 4.00998592376709e-05 seconds with a stdev of 98.98%. (1000 runs)\n",
      "'part_two()' took on average 0.0011110694408416747 seconds with a stdev of 4.49%. (1000 runs)\n"
     ]
    }
   ],
   "source": [
    "assert part_two('test_input.txt') == 24933642\n",
    "assert part_two('input.txt') == 214171"
   ]
  }
 ],
 "metadata": {
  "kernelspec": {
   "display_name": "Python 3.11.0 64-bit ('advent_of_code')",
   "language": "python",
   "name": "python3"
  },
  "language_info": {
   "codemirror_mode": {
    "name": "ipython",
    "version": 3
   },
   "file_extension": ".py",
   "mimetype": "text/x-python",
   "name": "python",
   "nbconvert_exporter": "python",
   "pygments_lexer": "ipython3",
   "version": "3.11.0"
  },
  "orig_nbformat": 4,
  "vscode": {
   "interpreter": {
    "hash": "2f4555899230db5af0ff1bdb756d10480e684325747d9718a095fe4965aa206b"
   }
  }
 },
 "nbformat": 4,
 "nbformat_minor": 2
}
