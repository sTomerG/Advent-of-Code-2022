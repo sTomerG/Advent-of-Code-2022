{
 "cells": [
  {
   "cell_type": "markdown",
   "metadata": {},
   "source": [
    "# [Day 10](https://adventofcode.com/2022/day/10)"
   ]
  },
  {
   "cell_type": "code",
   "execution_count": 1,
   "metadata": {},
   "outputs": [],
   "source": [
    "from typing import List\n",
    "from aoc2022.utils import timeit\n",
    "\n",
    "@timeit(1000)\n",
    "def part_one(path: str) -> int:\n",
    "    cycle = 0\n",
    "    x = 1\n",
    "    signals = 0\n",
    "    moment = 20\n",
    "    with open(path) as f:\n",
    "        for line in f:\n",
    "            line = line.rstrip()\n",
    "            if line == \"noop\":\n",
    "                cycle += 1\n",
    "                if cycle == moment:\n",
    "                    signal_strength, moment = calc_signal_strength(cycle, x)\n",
    "                    signals += signal_strength\n",
    "            else:\n",
    "                _, value = line.split()\n",
    "                for _ in range(2):\n",
    "                    cycle += 1\n",
    "                    if cycle == moment:\n",
    "                        signal_strength, moment = calc_signal_strength(cycle, x)\n",
    "                        signals += signal_strength\n",
    "                x += int(value)\n",
    "    return signals\n",
    "\n",
    "def calc_signal_strength(cycle: int, x: int) -> int:\n",
    "    return cycle * x, cycle + 40"
   ]
  },
  {
   "cell_type": "code",
   "execution_count": 2,
   "metadata": {},
   "outputs": [
    {
     "name": "stdout",
     "output_type": "stream",
     "text": [
      "'part_one()' took on average 6.353998184204101e-05 seconds with a stdev of 24.91%. (1000 runs)\n",
      "'part_one()' took on average 6.59337043762207e-05 seconds with a stdev of 17.65%. (1000 runs)\n"
     ]
    }
   ],
   "source": [
    "assert part_one('test_input.txt') == 13140\n",
    "assert part_one('input.txt') == 13860"
   ]
  },
  {
   "cell_type": "markdown",
   "metadata": {},
   "source": [
    "Part two"
   ]
  },
  {
   "cell_type": "code",
   "execution_count": 3,
   "metadata": {},
   "outputs": [],
   "source": [
    "def get_sprite_position(x: int) -> List[int]:\n",
    "    return [x-1, x, x+1]\n",
    "\n",
    "def draw_pixel(cycle: int, sprite_position: List[int], grid: List[List[str]]) -> List[List[str]]:\n",
    "    cycle -= 1\n",
    "    if cycle in sprite_position:\n",
    "        grid += '#'\n",
    "    else:\n",
    "        grid += '.'\n",
    "    return grid\n",
    "\n",
    "@timeit(1000)\n",
    "def part_two(path: str):\n",
    "    cycle = 0\n",
    "    x = 1\n",
    "    sprite_position = get_sprite_position(x)\n",
    "    moment = 40\n",
    "    grid = ''\n",
    "    with open(path) as f:\n",
    "        for line in f:\n",
    "            line = line.rstrip()\n",
    "            if line == \"noop\":\n",
    "                cycle += 1\n",
    "                if cycle == moment:\n",
    "                    cycle = 0\n",
    "                grid = draw_pixel(cycle, sprite_position, grid)\n",
    "                if cycle == 0:\n",
    "                    grid += '\\n'\n",
    "            else:\n",
    "                _, value = line.split()\n",
    "                for _ in range(2):\n",
    "                    cycle += 1\n",
    "                    if cycle == moment:\n",
    "                        cycle = 0\n",
    "                    grid = draw_pixel(cycle, sprite_position, grid)\n",
    "                    if cycle == 0:\n",
    "                        grid += '\\n'\n",
    "                x += int(value)\n",
    "                sprite_position = get_sprite_position(x)\n",
    "    return grid"
   ]
  },
  {
   "cell_type": "code",
   "execution_count": 4,
   "metadata": {},
   "outputs": [
    {
     "name": "stdout",
     "output_type": "stream",
     "text": [
      "'part_two()' took on average 0.0001092233657836914 seconds with a stdev of 21.26%. (1000 runs)\n"
     ]
    }
   ],
   "source": [
    "output = part_two('input.txt')"
   ]
  },
  {
   "cell_type": "code",
   "execution_count": 5,
   "metadata": {},
   "outputs": [
    {
     "name": "stdout",
     "output_type": "stream",
     "text": [
      "###  \n",
      "#  # \n",
      "#  # \n",
      "###  \n",
      "# #  \n",
      "#  # \n",
      "\n",
      "\n",
      "#### \n",
      "   # \n",
      "  #  \n",
      " #   \n",
      "#    \n",
      "#### \n",
      "\n",
      "\n",
      "#  # \n",
      "#  # \n",
      "#### \n",
      "#  # \n",
      "#  # \n",
      "#  # \n",
      "\n",
      "\n",
      "#### \n",
      "#    \n",
      "###  \n",
      "#    \n",
      "#    \n",
      "#    \n",
      "\n",
      "\n",
      " ##  \n",
      "#  # \n",
      "#    \n",
      "# ## \n",
      "#  # \n",
      " ### \n",
      "\n",
      "\n",
      "  ## \n",
      "   # \n",
      "   # \n",
      "   # \n",
      "#  # \n",
      " ##  \n",
      "\n",
      "\n",
      " ##  \n",
      "#  # \n",
      "#    \n",
      "#    \n",
      "#  # \n",
      " ##  \n",
      "\n",
      "\n",
      "###  \n",
      "#  # \n",
      "###  \n",
      "#  ##\n",
      "#  ##\n",
      "###  \n",
      "\n",
      "\n"
     ]
    }
   ],
   "source": [
    "def print_letter_by_letter(string: str, letter_length: int = 5):\n",
    "    lines = output.split('\\n')\n",
    "    for i in range(0,len(lines[0]), letter_length):\n",
    "        letter = ''\n",
    "        for line in lines:\n",
    "            letter += line[i:i+letter_length] + '\\n'\n",
    "        print(letter.replace('.', ' '))\n",
    "print_letter_by_letter(output)"
   ]
  },
  {
   "cell_type": "markdown",
   "metadata": {},
   "source": [
    "Letters are: `RZHFGJCB`"
   ]
  }
 ],
 "metadata": {
  "kernelspec": {
   "display_name": "Python 3.11.0 64-bit ('advent_of_code')",
   "language": "python",
   "name": "python3"
  },
  "language_info": {
   "codemirror_mode": {
    "name": "ipython",
    "version": 3
   },
   "file_extension": ".py",
   "mimetype": "text/x-python",
   "name": "python",
   "nbconvert_exporter": "python",
   "pygments_lexer": "ipython3",
   "version": "3.11.0"
  },
  "orig_nbformat": 4,
  "vscode": {
   "interpreter": {
    "hash": "2f4555899230db5af0ff1bdb756d10480e684325747d9718a095fe4965aa206b"
   }
  }
 },
 "nbformat": 4,
 "nbformat_minor": 2
}
