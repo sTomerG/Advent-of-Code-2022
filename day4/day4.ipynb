{
 "cells": [
  {
   "cell_type": "markdown",
   "metadata": {},
   "source": [
    "# [Day 4](https://adventofcode.com/2022/day/4)"
   ]
  },
  {
   "cell_type": "code",
   "execution_count": 1,
   "metadata": {},
   "outputs": [],
   "source": [
    "from aoc2022.utils import timeit\n",
    "\n",
    "def fully_contains(min1, max1, min2, max2):\n",
    "    if min1 <= min2 and max1 >= max2:\n",
    "        return True\n",
    "    if min2 <= min1 and max2 >= max1:\n",
    "        return True\n",
    "    return False\n",
    "\n",
    "def partially_contains(min1, max1, min2, max2):\n",
    "    if max1 >= min2 and min1 <= max2:\n",
    "        return True\n",
    "    if max2 >= min1 and min2 <= max1:\n",
    "        return True\n",
    "    return False\n",
    "\n",
    "\n",
    "@timeit(1000)\n",
    "def part_one(path: str) -> int:\n",
    "    fully_contained = []\n",
    "    with open(path) as f:\n",
    "        for line in f:\n",
    "            elf1, elf2 = line.split(',')\n",
    "            min1, max1 = elf1.split('-')\n",
    "            min2, max2 = elf2.split('-')\n",
    "            fully_contained.append(fully_contains(int(min1), int(max1), int(min2), int(max2)))\n",
    "    return sum(fully_contained)\n",
    "\n",
    "@timeit(1000)\n",
    "def part_two(path: str) -> int:\n",
    "    partially_contained = []\n",
    "    with open(path) as f:\n",
    "        for line in f:\n",
    "            elf1, elf2 = line.split(',')\n",
    "            min1, max1 = elf1.split('-')\n",
    "            min2, max2 = elf2.split('-')\n",
    "            partially_contained.append(partially_contains(int(min1), int(max1), int(min2), int(max2)))\n",
    "    return sum(partially_contained)\n",
    "\n"
   ]
  },
  {
   "cell_type": "code",
   "execution_count": 2,
   "metadata": {},
   "outputs": [
    {
     "name": "stdout",
     "output_type": "stream",
     "text": [
      "'part_one()' took on average 1.9979476928710937e-05 seconds with a stdev of 222.59%. (1000 runs)\n",
      "'part_one()' took on average 0.0005312309265136718 seconds with a stdev of 6.26%. (1000 runs)\n"
     ]
    }
   ],
   "source": [
    "assert part_one('test_input.txt') == 2\n",
    "assert part_one('input.txt') == 509"
   ]
  },
  {
   "cell_type": "code",
   "execution_count": 3,
   "metadata": {},
   "outputs": [
    {
     "name": "stdout",
     "output_type": "stream",
     "text": [
      "'part_two()' took on average 1.942944526672363e-05 seconds with a stdev of 59.49%. (1000 runs)\n",
      "'part_two()' took on average 0.0005274927616119385 seconds with a stdev of 5.22%. (1000 runs)\n"
     ]
    }
   ],
   "source": [
    "assert part_two('test_input.txt') == 4\n",
    "assert part_two('input.txt') == 870"
   ]
  }
 ],
 "metadata": {
  "kernelspec": {
   "display_name": "Python 3.11.0 64-bit ('advent_of_code')",
   "language": "python",
   "name": "python3"
  },
  "language_info": {
   "codemirror_mode": {
    "name": "ipython",
    "version": 3
   },
   "file_extension": ".py",
   "mimetype": "text/x-python",
   "name": "python",
   "nbconvert_exporter": "python",
   "pygments_lexer": "ipython3",
   "version": "3.11.0"
  },
  "orig_nbformat": 4,
  "vscode": {
   "interpreter": {
    "hash": "2f4555899230db5af0ff1bdb756d10480e684325747d9718a095fe4965aa206b"
   }
  }
 },
 "nbformat": 4,
 "nbformat_minor": 2
}
